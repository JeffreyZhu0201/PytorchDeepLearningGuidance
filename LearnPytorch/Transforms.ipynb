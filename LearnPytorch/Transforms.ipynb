{
 "cells": [
  {
   "cell_type": "markdown",
   "id": "d62dea1c",
   "metadata": {},
   "source": [
    "# Transforms"
   ]
  },
  {
   "cell_type": "code",
   "execution_count": null,
   "id": "ca7693eb",
   "metadata": {},
   "outputs": [],
   "source": [
    "import torch\n",
    "from torchvision import datasets\n",
    "from torchvision.transforms import ToTensor,Lambda\n",
    "\n",
    "ds = datasets.FashionMNIST(\n",
    "    root=\"data\",\n",
    "    train=True,\n",
    "    download=True,\n",
    "    transform=ToTensor(),\n",
    "    target_transform=Lambda(lambda y: torch.zeros(10, dtype=torch.float).scatter_(dim=0, index=torch.tensor(y), src=1))\n",
    "    # 这一行代码的意思是：将标签 y（一个数字，表示类别）转换为 one-hot 编码的张量。\n",
    "    # 具体做法是：先创建一个长度为 10 的全 0 浮点型张量，然后用 scatter_ 方法在第 y 个位置上赋值为 1。\n",
    "    # 这样就把类别数字 y 转换成了 one-hot 向量。例如 y=3 时，结果是 [0,0,0,1,0,0,0,0,0,0]。\n",
    "    # 图片资源为x\n",
    ")\n"
   ]
  }
 ],
 "metadata": {
  "kernelspec": {
   "display_name": "base",
   "language": "python",
   "name": "python3"
  },
  "language_info": {
   "codemirror_mode": {
    "name": "ipython",
    "version": 3
   },
   "file_extension": ".py",
   "mimetype": "text/x-python",
   "name": "python",
   "nbconvert_exporter": "python",
   "pygments_lexer": "ipython3",
   "version": "3.12.7"
  }
 },
 "nbformat": 4,
 "nbformat_minor": 5
}
