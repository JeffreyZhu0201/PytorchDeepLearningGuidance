{
 "cells": [
  {
   "cell_type": "markdown",
   "id": "247dcfe4",
   "metadata": {},
   "source": [
    "# Saved and Load the Model"
   ]
  },
  {
   "cell_type": "code",
   "execution_count": null,
   "id": "2ac1de04",
   "metadata": {},
   "outputs": [],
   "source": [
    "import torch\n",
    "import torchvision.models as models"
   ]
  },
  {
   "cell_type": "markdown",
   "id": "98207909",
   "metadata": {},
   "source": [
    "## Saving and Loading Model Weights"
   ]
  },
  {
   "cell_type": "code",
   "execution_count": null,
   "id": "c90b7868",
   "metadata": {},
   "outputs": [],
   "source": [
    "model = models.vgg16(weights='IMAGENET1K_V1')\n",
    "torch.save(model.state_dict(), 'model_weights.pth')"
   ]
  },
  {
   "cell_type": "code",
   "execution_count": null,
   "id": "bff95170",
   "metadata": {},
   "outputs": [],
   "source": [
    "model = models.vgg16() # we do not specify ``weights``, i.e. create untrained model\n",
    "model.load_state_dict(torch.load('model_weights.pth', weights_only=True))\n",
    "model.eval()"
   ]
  },
  {
   "cell_type": "markdown",
   "id": "c780c371",
   "metadata": {},
   "source": [
    "## Saving With Shapes"
   ]
  },
  {
   "cell_type": "code",
   "execution_count": null,
   "id": "2f2f8658",
   "metadata": {},
   "outputs": [],
   "source": [
    "torch.save(model, 'model.pth')"
   ]
  }
 ],
 "metadata": {
  "language_info": {
   "name": "python"
  }
 },
 "nbformat": 4,
 "nbformat_minor": 5
}
