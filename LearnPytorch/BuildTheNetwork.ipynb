{
 "cells": [
  {
   "cell_type": "markdown",
   "id": "92488d87",
   "metadata": {},
   "source": [
    "# Build The Network"
   ]
  },
  {
   "cell_type": "code",
   "execution_count": 1,
   "id": "c01f6b17",
   "metadata": {},
   "outputs": [],
   "source": [
    "import os\n",
    "import torch\n",
    "from torch import nn\n",
    "from torch.utils.data import DataLoader\n",
    "from torchvision import datasets,transforms"
   ]
  },
  {
   "cell_type": "markdown",
   "id": "5fcf7626",
   "metadata": {},
   "source": [
    "## Get Device fot Training"
   ]
  },
  {
   "cell_type": "code",
   "execution_count": 2,
   "id": "030fe353",
   "metadata": {},
   "outputs": [
    {
     "name": "stdout",
     "output_type": "stream",
     "text": [
      "Using cuda device\n"
     ]
    }
   ],
   "source": [
    "device = torch.accelerator.current_accelerator().type if torch.accelerator.is_available() else \"cpu\"\n",
    "print(f\"Using {device} device\")"
   ]
  },
  {
   "cell_type": "markdown",
   "id": "fc443185",
   "metadata": {},
   "source": [
    "## Define the Class"
   ]
  },
  {
   "cell_type": "code",
   "execution_count": 3,
   "id": "f1af9753",
   "metadata": {},
   "outputs": [],
   "source": [
    "class NeuralNetwork(nn.Module):\n",
    "    def __init__(self):\n",
    "        super().__init__()\n",
    "        self.flatten = nn.Flatten()\n",
    "        self.linear_relu_stack = nn.Sequential(\n",
    "            nn.Linear(28*28,512),\n",
    "            nn.ReLU(),\n",
    "            nn.Linear(512,512),\n",
    "            nn.ReLU(),\n",
    "            nn.Linear(512,10)\n",
    "        )\n",
    "    def forward(self,x):\n",
    "        x = self.flatten(x)\n",
    "        logits = self.linear_relu_stack(x)\n",
    "        return logits"
   ]
  },
  {
   "cell_type": "code",
   "execution_count": 4,
   "id": "6b292822",
   "metadata": {},
   "outputs": [
    {
     "name": "stdout",
     "output_type": "stream",
     "text": [
      "NeuralNetwork(\n",
      "  (flatten): Flatten(start_dim=1, end_dim=-1)\n",
      "  (linear_relu_stack): Sequential(\n",
      "    (0): Linear(in_features=784, out_features=512, bias=True)\n",
      "    (1): ReLU()\n",
      "    (2): Linear(in_features=512, out_features=512, bias=True)\n",
      "    (3): ReLU()\n",
      "    (4): Linear(in_features=512, out_features=10, bias=True)\n",
      "  )\n",
      ")\n"
     ]
    }
   ],
   "source": [
    "model = NeuralNetwork().to(device)\n",
    "print(model)"
   ]
  },
  {
   "cell_type": "code",
   "execution_count": 5,
   "id": "4c482ad0",
   "metadata": {},
   "outputs": [
    {
     "name": "stdout",
     "output_type": "stream",
     "text": [
      "torch.Size([1, 28, 28])\n",
      "tensor([[ 0.0487, -0.1042, -0.0931,  0.0443, -0.0891, -0.0218,  0.0757,  0.0102,\n",
      "         -0.1230,  0.0472]], grad_fn=<ToCopyBackward0>)\n",
      "tensor([[0.1069, 0.0917, 0.0928, 0.1064, 0.0931, 0.0996, 0.1098, 0.1029, 0.0900,\n",
      "         0.1067]], grad_fn=<SoftmaxBackward0>)\n",
      "Predict class:tensor([6])\n"
     ]
    }
   ],
   "source": [
    "import matplotlib.pyplot as plt\n",
    "import numpy as np\n",
    "X = torch.rand(1,28,28,device=device)\n",
    "print(X.shape)\n",
    "logits = model(X).to(\"cpu\")\n",
    "print(logits)\n",
    "# plt.plot(2,logits.cpu().detach().numpy())\n",
    "# plt.plot(logits.cpu().detach().numpy().flatten())\n",
    "\n",
    "pred_probab = nn.Softmax(dim=1)(logits)\n",
    "print(pred_probab)\n",
    "y_pred = pred_probab.argmax(1)\n",
    "print(f\"Predict class:{y_pred}\")\n",
    "# plt.show()"
   ]
  },
  {
   "cell_type": "code",
   "execution_count": 6,
   "id": "504b8801",
   "metadata": {},
   "outputs": [
    {
     "name": "stdout",
     "output_type": "stream",
     "text": [
      "torch.Size([3, 28, 28])\n"
     ]
    }
   ],
   "source": [
    "input_image = torch.rand(3,28,28)\n",
    "print(input_image.size())"
   ]
  },
  {
   "cell_type": "markdown",
   "id": "adc69c6c",
   "metadata": {},
   "source": [
    "## nn.Flatten"
   ]
  },
  {
   "cell_type": "code",
   "execution_count": null,
   "id": "91da98f6",
   "metadata": {},
   "outputs": [
    {
     "name": "stdout",
     "output_type": "stream",
     "text": [
      "torch.Size([3, 784])\n"
     ]
    }
   ],
   "source": [
    "flatten = nn.Flatten()  # 只转换第一维度的数据\n",
    "flat_image = flatten(input_image)\n",
    "print(flat_image.size())"
   ]
  },
  {
   "cell_type": "markdown",
   "id": "189687a2",
   "metadata": {},
   "source": [
    "## nn.Linear"
   ]
  },
  {
   "cell_type": "code",
   "execution_count": 8,
   "id": "a1347f4e",
   "metadata": {},
   "outputs": [
    {
     "name": "stdout",
     "output_type": "stream",
     "text": [
      "torch.Size([3, 20])\n"
     ]
    }
   ],
   "source": [
    "layer1 = nn.Linear(in_features=28*28,out_features=20)\n",
    "hidden1 = layer1(flat_image)\n",
    "print(hidden1.size())"
   ]
  },
  {
   "cell_type": "markdown",
   "id": "ab81fd51",
   "metadata": {},
   "source": [
    "## nn.ReLU()"
   ]
  },
  {
   "cell_type": "code",
   "execution_count": null,
   "id": "0550c521",
   "metadata": {},
   "outputs": [
    {
     "name": "stdout",
     "output_type": "stream",
     "text": [
      "Before ReLU: tensor([[ 4.1915e-02,  3.5098e-01, -4.0096e-01, -5.7743e-01, -4.6115e-01,\n",
      "          5.8596e-01, -4.3271e-01,  3.6938e-02,  1.8667e-01, -6.7483e-01,\n",
      "         -5.5206e-02,  4.2921e-02, -1.8322e-01, -4.2530e-01, -7.1983e-02,\n",
      "          1.5866e-01, -1.5080e-01, -1.8553e-01,  1.0469e-01, -4.2776e-01],\n",
      "        [-2.5267e-01,  5.2599e-01, -1.0112e-01, -4.4960e-01, -5.8161e-01,\n",
      "          5.4259e-01, -2.7093e-01,  2.8718e-02, -8.8020e-03, -8.0929e-01,\n",
      "          9.2627e-02,  1.6276e-01, -5.7747e-01, -4.9831e-01, -2.3607e-01,\n",
      "         -1.4806e-02,  1.4360e-01, -6.8105e-02,  8.2711e-02, -5.0145e-01],\n",
      "        [-1.7730e-01,  4.5793e-01, -9.8486e-02, -7.9398e-01, -8.5264e-01,\n",
      "          3.4841e-01, -2.6714e-01,  2.7903e-02,  1.6600e-02, -6.7068e-01,\n",
      "         -1.3097e-01,  2.0937e-01, -2.9284e-01, -2.4954e-01, -3.6133e-01,\n",
      "         -6.8760e-04,  3.3765e-01, -2.6114e-01,  5.0923e-02, -4.3754e-01]],\n",
      "       grad_fn=<AddmmBackward0>)\n",
      "\n",
      "\n",
      "After ReLU: tensor([[0.0419, 0.3510, 0.0000, 0.0000, 0.0000, 0.5860, 0.0000, 0.0369, 0.1867,\n",
      "         0.0000, 0.0000, 0.0429, 0.0000, 0.0000, 0.0000, 0.1587, 0.0000, 0.0000,\n",
      "         0.1047, 0.0000],\n",
      "        [0.0000, 0.5260, 0.0000, 0.0000, 0.0000, 0.5426, 0.0000, 0.0287, 0.0000,\n",
      "         0.0000, 0.0926, 0.1628, 0.0000, 0.0000, 0.0000, 0.0000, 0.1436, 0.0000,\n",
      "         0.0827, 0.0000],\n",
      "        [0.0000, 0.4579, 0.0000, 0.0000, 0.0000, 0.3484, 0.0000, 0.0279, 0.0166,\n",
      "         0.0000, 0.0000, 0.2094, 0.0000, 0.0000, 0.0000, 0.0000, 0.3376, 0.0000,\n",
      "         0.0509, 0.0000]], grad_fn=<ReluBackward0>)\n"
     ]
    }
   ],
   "source": [
    "print(f\"Before ReLU: {hidden1}\\n\\n\")\n",
    "hidden1 = nn.ReLU()(hidden1)    # 省略负数\n",
    "print(f\"After ReLU: {hidden1}\")"
   ]
  },
  {
   "cell_type": "markdown",
   "id": "b40f00be",
   "metadata": {},
   "source": [
    "## nn.Sequential"
   ]
  },
  {
   "cell_type": "code",
   "execution_count": 11,
   "id": "5dbbad0f",
   "metadata": {},
   "outputs": [],
   "source": [
    "seq_modules = nn.Sequential(\n",
    "    flatten,\n",
    "    layer1,\n",
    "    nn.ReLU(),\n",
    "    nn.Linear(20,10)\n",
    ")"
   ]
  },
  {
   "cell_type": "markdown",
   "id": "28b365e9",
   "metadata": {},
   "source": [
    "## nn.Softmax"
   ]
  },
  {
   "cell_type": "code",
   "execution_count": 12,
   "id": "25fe9f80",
   "metadata": {},
   "outputs": [],
   "source": [
    "softmax = nn.Softmax(dim=1)\n",
    "pred_probab = softmax(logits)"
   ]
  },
  {
   "cell_type": "code",
   "execution_count": 10,
   "id": "1e4f8047",
   "metadata": {},
   "outputs": [
    {
     "name": "stdout",
     "output_type": "stream",
     "text": [
      "Model structure:NeuralNetwork(\n",
      "  (flatten): Flatten(start_dim=1, end_dim=-1)\n",
      "  (linear_relu_stack): Sequential(\n",
      "    (0): Linear(in_features=784, out_features=512, bias=True)\n",
      "    (1): ReLU()\n",
      "    (2): Linear(in_features=512, out_features=512, bias=True)\n",
      "    (3): ReLU()\n",
      "    (4): Linear(in_features=512, out_features=10, bias=True)\n",
      "  )\n",
      ")\n",
      "\n",
      "\n",
      "Layer:linear_relu_stack.0.weight | size:torch.Size([512, 784]) | Values : tensor([[ 0.0226,  0.0176,  0.0299,  ..., -0.0016, -0.0060, -0.0340],\n",
      "        [-0.0237, -0.0071,  0.0156,  ...,  0.0323, -0.0034,  0.0171]],\n",
      "       device='cuda:0', grad_fn=<SliceBackward0>) \n",
      "\n",
      "Layer:linear_relu_stack.0.bias | size:torch.Size([512]) | Values : tensor([ 0.0260, -0.0275], device='cuda:0', grad_fn=<SliceBackward0>) \n",
      "\n",
      "Layer:linear_relu_stack.2.weight | size:torch.Size([512, 512]) | Values : tensor([[ 0.0306, -0.0242,  0.0179,  ...,  0.0341, -0.0392, -0.0403],\n",
      "        [-0.0333, -0.0309, -0.0026,  ..., -0.0067, -0.0140,  0.0296]],\n",
      "       device='cuda:0', grad_fn=<SliceBackward0>) \n",
      "\n",
      "Layer:linear_relu_stack.2.bias | size:torch.Size([512]) | Values : tensor([-0.0348, -0.0382], device='cuda:0', grad_fn=<SliceBackward0>) \n",
      "\n",
      "Layer:linear_relu_stack.4.weight | size:torch.Size([10, 512]) | Values : tensor([[ 0.0248, -0.0211,  0.0309,  ...,  0.0234, -0.0406, -0.0032],\n",
      "        [-0.0243,  0.0246,  0.0180,  ..., -0.0144,  0.0244, -0.0385]],\n",
      "       device='cuda:0', grad_fn=<SliceBackward0>) \n",
      "\n",
      "Layer:linear_relu_stack.4.bias | size:torch.Size([10]) | Values : tensor([-0.0037,  0.0097], device='cuda:0', grad_fn=<SliceBackward0>) \n",
      "\n"
     ]
    }
   ],
   "source": [
    "print(f\"Model structure:{model}\\n\\n\")\n",
    "\n",
    "for name,param in model.named_parameters():\n",
    "    print(f\"Layer:{name} | size:{param.size()} | Values : {param[:2]} \\n\")"
   ]
  }
 ],
 "metadata": {
  "kernelspec": {
   "display_name": "base",
   "language": "python",
   "name": "python3"
  },
  "language_info": {
   "codemirror_mode": {
    "name": "ipython",
    "version": 3
   },
   "file_extension": ".py",
   "mimetype": "text/x-python",
   "name": "python",
   "nbconvert_exporter": "python",
   "pygments_lexer": "ipython3",
   "version": "3.12.7"
  }
 },
 "nbformat": 4,
 "nbformat_minor": 5
}
